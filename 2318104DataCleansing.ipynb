{
  "cells": [
    {
      "cell_type": "markdown",
      "metadata": {
        "id": "5SAcCqfGv1tc"
      },
      "source": [
        "# **1. Import Libraries**"
      ]
    },
    {
      "cell_type": "code",
      "execution_count": 16,
      "metadata": {
        "id": "uxdkcA05udYN"
      },
      "outputs": [],
      "source": [
        "import pandas as pd\n",
        "import numpy as np"
      ]
    },
    {
      "cell_type": "code",
      "execution_count": 8,
      "metadata": {
        "colab": {
          "base_uri": "https://localhost:8080/"
        },
        "id": "AdnmZ5nMvyOq",
        "outputId": "e9bb431c-0697-4f53-8f23-f4274b75afa6"
      },
      "outputs": [
        {
          "output_type": "stream",
          "name": "stdout",
          "text": [
            "Drive already mounted at /content/drive; to attempt to forcibly remount, call drive.mount(\"/content/drive\", force_remount=True).\n"
          ]
        }
      ],
      "source": [
        "# Langkah 1: Mount Google Drive\n",
        "from google.colab import drive\n",
        "drive.mount('/content/drive')"
      ]
    },
    {
      "cell_type": "markdown",
      "metadata": {
        "id": "5QCtXCMbwOlD"
      },
      "source": [
        "\n",
        "# **2. Baca Dataset Pelanggan Yang Kotor**"
      ]
    },
    {
      "cell_type": "code",
      "execution_count": null,
      "metadata": {
        "colab": {
          "background_save": true
        },
        "id": "OPQek_JfvzD4"
      },
      "outputs": [],
      "source": [
        "# Load dataset\n",
        "file_path = \"/content/drive/MyDrive/Colab Notebooks/Messy_Employee.csv\"# ganti sesuai path di Colab\n",
        "df = pd.read_csv(file_path)"
      ]
    },
    {
      "cell_type": "code",
      "execution_count": null,
      "metadata": {
        "colab": {
          "background_save": true,
          "base_uri": "https://localhost:8080/"
        },
        "id": "i0siU5dCwbuf",
        "outputId": "3d598a1f-a987-4dfb-c409-2666df2db59d"
      },
      "outputs": [
        {
          "name": "stdout",
          "output_type": "stream",
          "text": [
            "     Employee_ID First_Name Last_Name   Age   Department_Region    Status  \\\n",
            "0        EMP1000        Bob     Davis  25.0   DevOps-California    Active   \n",
            "1        EMP1001        Bob     Brown   NaN       Finance-Texas    Active   \n",
            "2        EMP1002      Alice     Jones   NaN        Admin-Nevada   Pending   \n",
            "3        EMP1003        Eva     Davis  25.0        Admin-Nevada  Inactive   \n",
            "4        EMP1004      Frank  Williams  25.0  Cloud Tech-Florida    Active   \n",
            "...          ...        ...       ...   ...                 ...       ...   \n",
            "1015     EMP2015      David    Miller  30.0       HR-California    Active   \n",
            "1016     EMP2016      David   Johnson  30.0    Cloud Tech-Texas  Inactive   \n",
            "1017     EMP2017    Charlie  Williams  40.0    Finance-New York    Active   \n",
            "1018     EMP2018      Alice    Garcia  30.0          HR-Florida  Inactive   \n",
            "1019     EMP2019      Heidi     Jones  30.0     DevOps-Illinois   Pending   \n",
            "\n",
            "       Join_Date     Salary                         Email       Phone  \\\n",
            "0       4/2/2021   59767.65         bob.davis@example.com -1651623197   \n",
            "1      7/10/2020   65304.66         bob.brown@example.com -1898471390   \n",
            "2      12/7/2023   88145.90       alice.jones@example.com -5596363211   \n",
            "3     11/27/2021   69450.99         eva.davis@example.com -3476490784   \n",
            "4       1/5/2022  109324.61    frank.williams@example.com -1586734256   \n",
            "...          ...        ...                           ...         ...   \n",
            "1015   8/19/2023        NaN      david.miller@example.com -3546212759   \n",
            "1016   11/7/2021  100215.06     david.johnson@example.com -2508261122   \n",
            "1017   10/4/2023  114587.11  charlie.williams@example.com -1261632487   \n",
            "1018  12/16/2024   71318.79      alice.garcia@example.com -8995729892   \n",
            "1019   2/22/2021   77764.24       heidi.jones@example.com -7629745492   \n",
            "\n",
            "     Performance_Score  Remote_Work  \n",
            "0              Average         True  \n",
            "1            Excellent         True  \n",
            "2                 Good         True  \n",
            "3                 Good         True  \n",
            "4                 Poor        False  \n",
            "...                ...          ...  \n",
            "1015              Good         True  \n",
            "1016              Good         True  \n",
            "1017           Average        False  \n",
            "1018              Good         True  \n",
            "1019           Average        False  \n",
            "\n",
            "[1020 rows x 12 columns]\n"
          ]
        }
      ],
      "source": [
        "# Tampilkan data\n",
        "print(df)"
      ]
    },
    {
      "cell_type": "markdown",
      "metadata": {
        "id": "01fC6F9lx5PH"
      },
      "source": [
        "# **3. Menampilkan Struktur Variable Data Employee**"
      ]
    },
    {
      "cell_type": "code",
      "execution_count": 9,
      "metadata": {
        "colab": {
          "base_uri": "https://localhost:8080/"
        },
        "id": "GW3e2r-cx2Et",
        "outputId": "7ea13e79-355a-4210-bfd5-b3e44831afae"
      },
      "outputs": [
        {
          "output_type": "stream",
          "name": "stdout",
          "text": [
            "Struktur Data Pelanggan:\n",
            "<class 'pandas.core.frame.DataFrame'>\n",
            "RangeIndex: 1020 entries, 0 to 1019\n",
            "Data columns (total 12 columns):\n",
            " #   Column             Non-Null Count  Dtype  \n",
            "---  ------             --------------  -----  \n",
            " 0   Employee_ID        1020 non-null   object \n",
            " 1   First_Name         1020 non-null   object \n",
            " 2   Last_Name          1020 non-null   object \n",
            " 3   Age                809 non-null    float64\n",
            " 4   Department_Region  1020 non-null   object \n",
            " 5   Status             1020 non-null   object \n",
            " 6   Join_Date          1020 non-null   object \n",
            " 7   Salary             996 non-null    float64\n",
            " 8   Email              1020 non-null   object \n",
            " 9   Phone              1020 non-null   int64  \n",
            " 10  Performance_Score  1020 non-null   object \n",
            " 11  Remote_Work        1020 non-null   bool   \n",
            "dtypes: bool(1), float64(2), int64(1), object(8)\n",
            "memory usage: 88.8+ KB\n",
            "None\n"
          ]
        }
      ],
      "source": [
        "print(\"Struktur Data Pelanggan:\")\n",
        "print(df.info())"
      ]
    },
    {
      "cell_type": "code",
      "execution_count": 10,
      "metadata": {
        "colab": {
          "base_uri": "https://localhost:8080/"
        },
        "id": "82Mrn_OtySJc",
        "outputId": "b95ee9a5-5119-4aae-b122-43f8aa460d7c"
      },
      "outputs": [
        {
          "output_type": "stream",
          "name": "stdout",
          "text": [
            "Info Data Awal:\n",
            "<class 'pandas.core.frame.DataFrame'>\n",
            "RangeIndex: 1020 entries, 0 to 1019\n",
            "Data columns (total 12 columns):\n",
            " #   Column             Non-Null Count  Dtype  \n",
            "---  ------             --------------  -----  \n",
            " 0   Employee_ID        1020 non-null   object \n",
            " 1   First_Name         1020 non-null   object \n",
            " 2   Last_Name          1020 non-null   object \n",
            " 3   Age                809 non-null    float64\n",
            " 4   Department_Region  1020 non-null   object \n",
            " 5   Status             1020 non-null   object \n",
            " 6   Join_Date          1020 non-null   object \n",
            " 7   Salary             996 non-null    float64\n",
            " 8   Email              1020 non-null   object \n",
            " 9   Phone              1020 non-null   int64  \n",
            " 10  Performance_Score  1020 non-null   object \n",
            " 11  Remote_Work        1020 non-null   bool   \n",
            "dtypes: bool(1), float64(2), int64(1), object(8)\n",
            "memory usage: 88.8+ KB\n",
            "None\n",
            "\n",
            "Jumlah Missing Values per Kolom:\n",
            "Employee_ID            0\n",
            "First_Name             0\n",
            "Last_Name              0\n",
            "Age                  211\n",
            "Department_Region      0\n",
            "Status                 0\n",
            "Join_Date              0\n",
            "Salary                24\n",
            "Email                  0\n",
            "Phone                  0\n",
            "Performance_Score      0\n",
            "Remote_Work            0\n",
            "dtype: int64\n"
          ]
        }
      ],
      "source": [
        "# Cek struktur awal\n",
        "print(\"Info Data Awal:\")\n",
        "print(df.info())\n",
        "print(\"\\nJumlah Missing Values per Kolom:\")\n",
        "print(df.isnull().sum())"
      ]
    },
    {
      "cell_type": "code",
      "execution_count": 11,
      "metadata": {
        "colab": {
          "base_uri": "https://localhost:8080/"
        },
        "id": "QJd_1-El85xR",
        "outputId": "4f8f3743-0e78-443f-b7fa-d468bc8e0ded"
      },
      "outputs": [
        {
          "output_type": "stream",
          "name": "stdout",
          "text": [
            "Employee_ID           object\n",
            "First_Name            object\n",
            "Last_Name             object\n",
            "Age                  float64\n",
            "Department_Region     object\n",
            "Status                object\n",
            "Join_Date             object\n",
            "Salary               float64\n",
            "Email                 object\n",
            "Phone                  int64\n",
            "Performance_Score     object\n",
            "Remote_Work             bool\n",
            "dtype: object\n"
          ]
        }
      ],
      "source": [
        "# Tampilkan nama kolom dan tipe data kolom\n",
        "column_types = df.dtypes\n",
        "print(column_types)"
      ]
    },
    {
      "cell_type": "markdown",
      "metadata": {
        "id": "v4T5jaEGy9ni"
      },
      "source": [
        "# **4. Data Cleansing-Standarisan Employee_Id**"
      ]
    },
    {
      "cell_type": "code",
      "execution_count": 12,
      "metadata": {
        "id": "cisD8cWsyw9h"
      },
      "outputs": [],
      "source": [
        "def format_employee_id(kode):\n",
        "    if isinstance(kode, str) and kode.startswith(\"EMP-\"):\n",
        "        num = kode.split('-')[-1]\n",
        "        return \"EMP-\" + num.zfill(4)\n",
        "    return kode\n",
        "\n",
        "df['Employee_ID'] = df['Employee_ID'].astype(str).apply(format_employee_id)"
      ]
    },
    {
      "cell_type": "markdown",
      "metadata": {
        "id": "hLzpYKb0zS1q"
      },
      "source": [
        "# **5. Data Cleansing-Mengabungkan Nama Lengkap**"
      ]
    },
    {
      "cell_type": "code",
      "execution_count": 13,
      "metadata": {
        "id": "TE6xvYY0zX7r"
      },
      "outputs": [],
      "source": [
        "df['Full_Name'] = (df['First_Name'].astype(str).str.strip().str.title() + \" \" +\n",
        "                   df['Last_Name'].astype(str).str.strip().str.title())"
      ]
    },
    {
      "cell_type": "markdown",
      "metadata": {
        "id": "-tW2_FeNzkKS"
      },
      "source": [
        "# **6. Data Cleansing-Standarisa Join-Date**"
      ]
    },
    {
      "cell_type": "code",
      "execution_count": 14,
      "metadata": {
        "id": "acVBXhK4zjTh"
      },
      "outputs": [],
      "source": [
        "df['Join_Date'] = pd.to_datetime(df['Join_Date'], errors='coerce')"
      ]
    },
    {
      "cell_type": "markdown",
      "metadata": {
        "id": "xy88B-_n5HrP"
      },
      "source": [
        "# **7. Data Cleansing-Phone Number**"
      ]
    },
    {
      "cell_type": "code",
      "execution_count": 17,
      "metadata": {
        "id": "P9tdkJSB5G-W"
      },
      "outputs": [],
      "source": [
        "df['Phone'] = df['Phone'].astype(str).str.replace('-', '', regex=True)\n",
        "df.loc[~df['Phone'].str.isnumeric(), 'Phone'] = np.nan\n",
        "df.loc[~df['Phone'].str.len().between(10,13), 'Phone'] = np.nan"
      ]
    },
    {
      "cell_type": "markdown",
      "metadata": {
        "id": "aJJ9r-r-5p7A"
      },
      "source": [
        "# **8. Data Cleansing-Pecah Department dan Region**"
      ]
    },
    {
      "cell_type": "code",
      "execution_count": 18,
      "metadata": {
        "id": "XSlWL9-j5mqv"
      },
      "outputs": [],
      "source": [
        "df[['Department','Region']] = df['Department_Region'].str.split('-', n=1, expand=True)"
      ]
    },
    {
      "cell_type": "markdown",
      "metadata": {
        "id": "DR2GXayA5zF8"
      },
      "source": [
        "# **9. Data Cleansing Normalisasi Performance Score**"
      ]
    },
    {
      "cell_type": "code",
      "execution_count": 19,
      "metadata": {
        "id": "yc1yyJve5wVF"
      },
      "outputs": [],
      "source": [
        "score_map = {\"Poor\":1,\"Average\":2,\"Good\":3,\"Excellent\":4}\n",
        "df['Performance_Score_Num'] = df['Performance_Score'].map(score_map)"
      ]
    },
    {
      "cell_type": "markdown",
      "metadata": {
        "id": "PMmyxTeB6A--"
      },
      "source": [
        "# **10. Mengisi Missing Values**"
      ]
    },
    {
      "cell_type": "code",
      "execution_count": 20,
      "metadata": {
        "id": "r-WZ6CWl6Gjj"
      },
      "outputs": [],
      "source": [
        "df['Age'] = df['Age'].fillna(df['Age'].median())\n",
        "df['Salary'] = df['Salary'].fillna(df['Salary'].mean())"
      ]
    },
    {
      "cell_type": "markdown",
      "metadata": {
        "id": "phfT7uZU6ari"
      },
      "source": [
        "# **11. Deduplikasi**"
      ]
    },
    {
      "cell_type": "code",
      "execution_count": 21,
      "metadata": {
        "id": "qXQYSSqp6Vyx"
      },
      "outputs": [],
      "source": [
        "# Urutkan agar Employee_ID lebih kecil dipertahankan\n",
        "df_sorted = df.sort_values(by='Employee_ID')"
      ]
    },
    {
      "cell_type": "code",
      "execution_count": 22,
      "metadata": {
        "id": "ez_3rvNS6fd4",
        "colab": {
          "base_uri": "https://localhost:8080/"
        },
        "outputId": "d60fde89-f029-4dda-d62f-40a7c8e224f5"
      },
      "outputs": [
        {
          "output_type": "stream",
          "name": "stdout",
          "text": [
            "Jumlah data setelah deduplikasi: 1014\n"
          ]
        }
      ],
      "source": [
        "# Drop duplikasi berdasarkan Full_Name + Email + Join_Date\n",
        "df = df_sorted.drop_duplicates(subset=['Full_Name','Email','Join_Date'], keep='first')\n",
        "df.reset_index(drop=True, inplace=True)\n",
        "\n",
        "print(f\"Jumlah data setelah deduplikasi: {len(df)}\")\n"
      ]
    },
    {
      "cell_type": "markdown",
      "metadata": {
        "id": "iKo_xyza7oB_"
      },
      "source": [
        "# **12. Data Enrichment**"
      ]
    },
    {
      "cell_type": "code",
      "execution_count": 23,
      "metadata": {
        "id": "a4opT6o47jMm",
        "colab": {
          "base_uri": "https://localhost:8080/",
          "height": 675
        },
        "outputId": "06740072-865d-43c8-e23f-d6f62b3f6231"
      },
      "outputs": [
        {
          "output_type": "stream",
          "name": "stderr",
          "text": [
            "/tmp/ipython-input-3524715003.py:2: SettingWithCopyWarning: \n",
            "A value is trying to be set on a copy of a slice from a DataFrame.\n",
            "Try using .loc[row_indexer,col_indexer] = value instead\n",
            "\n",
            "See the caveats in the documentation: https://pandas.pydata.org/pandas-docs/stable/user_guide/indexing.html#returning-a-view-versus-a-copy\n",
            "  df['Seniority_Years'] = (pd.to_datetime(\"today\") - df['Join_Date']).dt.days // 365\n",
            "/tmp/ipython-input-3524715003.py:7: SettingWithCopyWarning: \n",
            "A value is trying to be set on a copy of a slice from a DataFrame.\n",
            "Try using .loc[row_indexer,col_indexer] = value instead\n",
            "\n",
            "See the caveats in the documentation: https://pandas.pydata.org/pandas-docs/stable/user_guide/indexing.html#returning-a-view-versus-a-copy\n",
            "  df['Age_Group'] = pd.cut(df['Age'], bins=bins, labels=labels)\n",
            "/tmp/ipython-input-3524715003.py:10: SettingWithCopyWarning: \n",
            "A value is trying to be set on a copy of a slice from a DataFrame.\n",
            "Try using .loc[row_indexer,col_indexer] = value instead\n",
            "\n",
            "See the caveats in the documentation: https://pandas.pydata.org/pandas-docs/stable/user_guide/indexing.html#returning-a-view-versus-a-copy\n",
            "  df['Salary_Level'] = pd.qcut(df['Salary'], 3, labels=[\"Low\",\"Medium\",\"High\"])\n"
          ]
        },
        {
          "output_type": "execute_result",
          "data": {
            "text/plain": [
              "  Employee_ID        Full_Name   Age Age_Group     Salary Salary_Level  \\\n",
              "0     EMP1000        Bob Davis  25.0       <25   59767.65          Low   \n",
              "1     EMP1001        Bob Brown  30.0     25-34   65304.66          Low   \n",
              "2     EMP1002      Alice Jones  30.0     25-34   88145.90       Medium   \n",
              "3     EMP1003        Eva Davis  25.0       <25   69450.99          Low   \n",
              "4     EMP1004   Frank Williams  25.0       <25  109324.61         High   \n",
              "5     EMP1005     Alice Garcia  40.0     35-44   88642.84       Medium   \n",
              "6     EMP1006      Frank Jones  30.0     25-34   96288.43         High   \n",
              "7     EMP1007        Bob Jones  30.0     25-34   94497.91       Medium   \n",
              "8     EMP1008      Frank Davis  35.0     25-34  115565.82         High   \n",
              "9     EMP1009  Charlie Johnson  30.0     25-34   76561.88       Medium   \n",
              "\n",
              "   Join_Date  Seniority_Years  \n",
              "0 2021-04-02                4  \n",
              "1 2020-07-10                5  \n",
              "2 2023-12-07                1  \n",
              "3 2021-11-27                3  \n",
              "4 2022-01-05                3  \n",
              "5 2020-06-10                5  \n",
              "6 2020-04-03                5  \n",
              "7 2022-07-17                3  \n",
              "8 2023-12-08                1  \n",
              "9 2022-08-04                3  "
            ],
            "text/html": [
              "\n",
              "  <div id=\"df-77b4f7a1-99a0-484d-ad68-a6856ec7c9f1\" class=\"colab-df-container\">\n",
              "    <div>\n",
              "<style scoped>\n",
              "    .dataframe tbody tr th:only-of-type {\n",
              "        vertical-align: middle;\n",
              "    }\n",
              "\n",
              "    .dataframe tbody tr th {\n",
              "        vertical-align: top;\n",
              "    }\n",
              "\n",
              "    .dataframe thead th {\n",
              "        text-align: right;\n",
              "    }\n",
              "</style>\n",
              "<table border=\"1\" class=\"dataframe\">\n",
              "  <thead>\n",
              "    <tr style=\"text-align: right;\">\n",
              "      <th></th>\n",
              "      <th>Employee_ID</th>\n",
              "      <th>Full_Name</th>\n",
              "      <th>Age</th>\n",
              "      <th>Age_Group</th>\n",
              "      <th>Salary</th>\n",
              "      <th>Salary_Level</th>\n",
              "      <th>Join_Date</th>\n",
              "      <th>Seniority_Years</th>\n",
              "    </tr>\n",
              "  </thead>\n",
              "  <tbody>\n",
              "    <tr>\n",
              "      <th>0</th>\n",
              "      <td>EMP1000</td>\n",
              "      <td>Bob Davis</td>\n",
              "      <td>25.0</td>\n",
              "      <td>&lt;25</td>\n",
              "      <td>59767.65</td>\n",
              "      <td>Low</td>\n",
              "      <td>2021-04-02</td>\n",
              "      <td>4</td>\n",
              "    </tr>\n",
              "    <tr>\n",
              "      <th>1</th>\n",
              "      <td>EMP1001</td>\n",
              "      <td>Bob Brown</td>\n",
              "      <td>30.0</td>\n",
              "      <td>25-34</td>\n",
              "      <td>65304.66</td>\n",
              "      <td>Low</td>\n",
              "      <td>2020-07-10</td>\n",
              "      <td>5</td>\n",
              "    </tr>\n",
              "    <tr>\n",
              "      <th>2</th>\n",
              "      <td>EMP1002</td>\n",
              "      <td>Alice Jones</td>\n",
              "      <td>30.0</td>\n",
              "      <td>25-34</td>\n",
              "      <td>88145.90</td>\n",
              "      <td>Medium</td>\n",
              "      <td>2023-12-07</td>\n",
              "      <td>1</td>\n",
              "    </tr>\n",
              "    <tr>\n",
              "      <th>3</th>\n",
              "      <td>EMP1003</td>\n",
              "      <td>Eva Davis</td>\n",
              "      <td>25.0</td>\n",
              "      <td>&lt;25</td>\n",
              "      <td>69450.99</td>\n",
              "      <td>Low</td>\n",
              "      <td>2021-11-27</td>\n",
              "      <td>3</td>\n",
              "    </tr>\n",
              "    <tr>\n",
              "      <th>4</th>\n",
              "      <td>EMP1004</td>\n",
              "      <td>Frank Williams</td>\n",
              "      <td>25.0</td>\n",
              "      <td>&lt;25</td>\n",
              "      <td>109324.61</td>\n",
              "      <td>High</td>\n",
              "      <td>2022-01-05</td>\n",
              "      <td>3</td>\n",
              "    </tr>\n",
              "    <tr>\n",
              "      <th>5</th>\n",
              "      <td>EMP1005</td>\n",
              "      <td>Alice Garcia</td>\n",
              "      <td>40.0</td>\n",
              "      <td>35-44</td>\n",
              "      <td>88642.84</td>\n",
              "      <td>Medium</td>\n",
              "      <td>2020-06-10</td>\n",
              "      <td>5</td>\n",
              "    </tr>\n",
              "    <tr>\n",
              "      <th>6</th>\n",
              "      <td>EMP1006</td>\n",
              "      <td>Frank Jones</td>\n",
              "      <td>30.0</td>\n",
              "      <td>25-34</td>\n",
              "      <td>96288.43</td>\n",
              "      <td>High</td>\n",
              "      <td>2020-04-03</td>\n",
              "      <td>5</td>\n",
              "    </tr>\n",
              "    <tr>\n",
              "      <th>7</th>\n",
              "      <td>EMP1007</td>\n",
              "      <td>Bob Jones</td>\n",
              "      <td>30.0</td>\n",
              "      <td>25-34</td>\n",
              "      <td>94497.91</td>\n",
              "      <td>Medium</td>\n",
              "      <td>2022-07-17</td>\n",
              "      <td>3</td>\n",
              "    </tr>\n",
              "    <tr>\n",
              "      <th>8</th>\n",
              "      <td>EMP1008</td>\n",
              "      <td>Frank Davis</td>\n",
              "      <td>35.0</td>\n",
              "      <td>25-34</td>\n",
              "      <td>115565.82</td>\n",
              "      <td>High</td>\n",
              "      <td>2023-12-08</td>\n",
              "      <td>1</td>\n",
              "    </tr>\n",
              "    <tr>\n",
              "      <th>9</th>\n",
              "      <td>EMP1009</td>\n",
              "      <td>Charlie Johnson</td>\n",
              "      <td>30.0</td>\n",
              "      <td>25-34</td>\n",
              "      <td>76561.88</td>\n",
              "      <td>Medium</td>\n",
              "      <td>2022-08-04</td>\n",
              "      <td>3</td>\n",
              "    </tr>\n",
              "  </tbody>\n",
              "</table>\n",
              "</div>\n",
              "    <div class=\"colab-df-buttons\">\n",
              "\n",
              "  <div class=\"colab-df-container\">\n",
              "    <button class=\"colab-df-convert\" onclick=\"convertToInteractive('df-77b4f7a1-99a0-484d-ad68-a6856ec7c9f1')\"\n",
              "            title=\"Convert this dataframe to an interactive table.\"\n",
              "            style=\"display:none;\">\n",
              "\n",
              "  <svg xmlns=\"http://www.w3.org/2000/svg\" height=\"24px\" viewBox=\"0 -960 960 960\">\n",
              "    <path d=\"M120-120v-720h720v720H120Zm60-500h600v-160H180v160Zm220 220h160v-160H400v160Zm0 220h160v-160H400v160ZM180-400h160v-160H180v160Zm440 0h160v-160H620v160ZM180-180h160v-160H180v160Zm440 0h160v-160H620v160Z\"/>\n",
              "  </svg>\n",
              "    </button>\n",
              "\n",
              "  <style>\n",
              "    .colab-df-container {\n",
              "      display:flex;\n",
              "      gap: 12px;\n",
              "    }\n",
              "\n",
              "    .colab-df-convert {\n",
              "      background-color: #E8F0FE;\n",
              "      border: none;\n",
              "      border-radius: 50%;\n",
              "      cursor: pointer;\n",
              "      display: none;\n",
              "      fill: #1967D2;\n",
              "      height: 32px;\n",
              "      padding: 0 0 0 0;\n",
              "      width: 32px;\n",
              "    }\n",
              "\n",
              "    .colab-df-convert:hover {\n",
              "      background-color: #E2EBFA;\n",
              "      box-shadow: 0px 1px 2px rgba(60, 64, 67, 0.3), 0px 1px 3px 1px rgba(60, 64, 67, 0.15);\n",
              "      fill: #174EA6;\n",
              "    }\n",
              "\n",
              "    .colab-df-buttons div {\n",
              "      margin-bottom: 4px;\n",
              "    }\n",
              "\n",
              "    [theme=dark] .colab-df-convert {\n",
              "      background-color: #3B4455;\n",
              "      fill: #D2E3FC;\n",
              "    }\n",
              "\n",
              "    [theme=dark] .colab-df-convert:hover {\n",
              "      background-color: #434B5C;\n",
              "      box-shadow: 0px 1px 3px 1px rgba(0, 0, 0, 0.15);\n",
              "      filter: drop-shadow(0px 1px 2px rgba(0, 0, 0, 0.3));\n",
              "      fill: #FFFFFF;\n",
              "    }\n",
              "  </style>\n",
              "\n",
              "    <script>\n",
              "      const buttonEl =\n",
              "        document.querySelector('#df-77b4f7a1-99a0-484d-ad68-a6856ec7c9f1 button.colab-df-convert');\n",
              "      buttonEl.style.display =\n",
              "        google.colab.kernel.accessAllowed ? 'block' : 'none';\n",
              "\n",
              "      async function convertToInteractive(key) {\n",
              "        const element = document.querySelector('#df-77b4f7a1-99a0-484d-ad68-a6856ec7c9f1');\n",
              "        const dataTable =\n",
              "          await google.colab.kernel.invokeFunction('convertToInteractive',\n",
              "                                                    [key], {});\n",
              "        if (!dataTable) return;\n",
              "\n",
              "        const docLinkHtml = 'Like what you see? Visit the ' +\n",
              "          '<a target=\"_blank\" href=https://colab.research.google.com/notebooks/data_table.ipynb>data table notebook</a>'\n",
              "          + ' to learn more about interactive tables.';\n",
              "        element.innerHTML = '';\n",
              "        dataTable['output_type'] = 'display_data';\n",
              "        await google.colab.output.renderOutput(dataTable, element);\n",
              "        const docLink = document.createElement('div');\n",
              "        docLink.innerHTML = docLinkHtml;\n",
              "        element.appendChild(docLink);\n",
              "      }\n",
              "    </script>\n",
              "  </div>\n",
              "\n",
              "\n",
              "    <div id=\"df-6e8b7aee-abb3-43eb-a053-da54d78dbfb0\">\n",
              "      <button class=\"colab-df-quickchart\" onclick=\"quickchart('df-6e8b7aee-abb3-43eb-a053-da54d78dbfb0')\"\n",
              "                title=\"Suggest charts\"\n",
              "                style=\"display:none;\">\n",
              "\n",
              "<svg xmlns=\"http://www.w3.org/2000/svg\" height=\"24px\"viewBox=\"0 0 24 24\"\n",
              "     width=\"24px\">\n",
              "    <g>\n",
              "        <path d=\"M19 3H5c-1.1 0-2 .9-2 2v14c0 1.1.9 2 2 2h14c1.1 0 2-.9 2-2V5c0-1.1-.9-2-2-2zM9 17H7v-7h2v7zm4 0h-2V7h2v10zm4 0h-2v-4h2v4z\"/>\n",
              "    </g>\n",
              "</svg>\n",
              "      </button>\n",
              "\n",
              "<style>\n",
              "  .colab-df-quickchart {\n",
              "      --bg-color: #E8F0FE;\n",
              "      --fill-color: #1967D2;\n",
              "      --hover-bg-color: #E2EBFA;\n",
              "      --hover-fill-color: #174EA6;\n",
              "      --disabled-fill-color: #AAA;\n",
              "      --disabled-bg-color: #DDD;\n",
              "  }\n",
              "\n",
              "  [theme=dark] .colab-df-quickchart {\n",
              "      --bg-color: #3B4455;\n",
              "      --fill-color: #D2E3FC;\n",
              "      --hover-bg-color: #434B5C;\n",
              "      --hover-fill-color: #FFFFFF;\n",
              "      --disabled-bg-color: #3B4455;\n",
              "      --disabled-fill-color: #666;\n",
              "  }\n",
              "\n",
              "  .colab-df-quickchart {\n",
              "    background-color: var(--bg-color);\n",
              "    border: none;\n",
              "    border-radius: 50%;\n",
              "    cursor: pointer;\n",
              "    display: none;\n",
              "    fill: var(--fill-color);\n",
              "    height: 32px;\n",
              "    padding: 0;\n",
              "    width: 32px;\n",
              "  }\n",
              "\n",
              "  .colab-df-quickchart:hover {\n",
              "    background-color: var(--hover-bg-color);\n",
              "    box-shadow: 0 1px 2px rgba(60, 64, 67, 0.3), 0 1px 3px 1px rgba(60, 64, 67, 0.15);\n",
              "    fill: var(--button-hover-fill-color);\n",
              "  }\n",
              "\n",
              "  .colab-df-quickchart-complete:disabled,\n",
              "  .colab-df-quickchart-complete:disabled:hover {\n",
              "    background-color: var(--disabled-bg-color);\n",
              "    fill: var(--disabled-fill-color);\n",
              "    box-shadow: none;\n",
              "  }\n",
              "\n",
              "  .colab-df-spinner {\n",
              "    border: 2px solid var(--fill-color);\n",
              "    border-color: transparent;\n",
              "    border-bottom-color: var(--fill-color);\n",
              "    animation:\n",
              "      spin 1s steps(1) infinite;\n",
              "  }\n",
              "\n",
              "  @keyframes spin {\n",
              "    0% {\n",
              "      border-color: transparent;\n",
              "      border-bottom-color: var(--fill-color);\n",
              "      border-left-color: var(--fill-color);\n",
              "    }\n",
              "    20% {\n",
              "      border-color: transparent;\n",
              "      border-left-color: var(--fill-color);\n",
              "      border-top-color: var(--fill-color);\n",
              "    }\n",
              "    30% {\n",
              "      border-color: transparent;\n",
              "      border-left-color: var(--fill-color);\n",
              "      border-top-color: var(--fill-color);\n",
              "      border-right-color: var(--fill-color);\n",
              "    }\n",
              "    40% {\n",
              "      border-color: transparent;\n",
              "      border-right-color: var(--fill-color);\n",
              "      border-top-color: var(--fill-color);\n",
              "    }\n",
              "    60% {\n",
              "      border-color: transparent;\n",
              "      border-right-color: var(--fill-color);\n",
              "    }\n",
              "    80% {\n",
              "      border-color: transparent;\n",
              "      border-right-color: var(--fill-color);\n",
              "      border-bottom-color: var(--fill-color);\n",
              "    }\n",
              "    90% {\n",
              "      border-color: transparent;\n",
              "      border-bottom-color: var(--fill-color);\n",
              "    }\n",
              "  }\n",
              "</style>\n",
              "\n",
              "      <script>\n",
              "        async function quickchart(key) {\n",
              "          const quickchartButtonEl =\n",
              "            document.querySelector('#' + key + ' button');\n",
              "          quickchartButtonEl.disabled = true;  // To prevent multiple clicks.\n",
              "          quickchartButtonEl.classList.add('colab-df-spinner');\n",
              "          try {\n",
              "            const charts = await google.colab.kernel.invokeFunction(\n",
              "                'suggestCharts', [key], {});\n",
              "          } catch (error) {\n",
              "            console.error('Error during call to suggestCharts:', error);\n",
              "          }\n",
              "          quickchartButtonEl.classList.remove('colab-df-spinner');\n",
              "          quickchartButtonEl.classList.add('colab-df-quickchart-complete');\n",
              "        }\n",
              "        (() => {\n",
              "          let quickchartButtonEl =\n",
              "            document.querySelector('#df-6e8b7aee-abb3-43eb-a053-da54d78dbfb0 button');\n",
              "          quickchartButtonEl.style.display =\n",
              "            google.colab.kernel.accessAllowed ? 'block' : 'none';\n",
              "        })();\n",
              "      </script>\n",
              "    </div>\n",
              "\n",
              "    </div>\n",
              "  </div>\n"
            ],
            "application/vnd.google.colaboratory.intrinsic+json": {
              "type": "dataframe",
              "summary": "{\n  \"name\": \"df[['Employee_ID','Full_Name','Age','Age_Group','Salary','Salary_Level','Join_Date','Seniority_Years']]\",\n  \"rows\": 10,\n  \"fields\": [\n    {\n      \"column\": \"Employee_ID\",\n      \"properties\": {\n        \"dtype\": \"string\",\n        \"num_unique_values\": 10,\n        \"samples\": [\n          \"EMP1008\",\n          \"EMP1001\",\n          \"EMP1005\"\n        ],\n        \"semantic_type\": \"\",\n        \"description\": \"\"\n      }\n    },\n    {\n      \"column\": \"Full_Name\",\n      \"properties\": {\n        \"dtype\": \"string\",\n        \"num_unique_values\": 10,\n        \"samples\": [\n          \"Frank Davis\",\n          \"Bob Brown\",\n          \"Alice Garcia\"\n        ],\n        \"semantic_type\": \"\",\n        \"description\": \"\"\n      }\n    },\n    {\n      \"column\": \"Age\",\n      \"properties\": {\n        \"dtype\": \"number\",\n        \"std\": 4.714045207910317,\n        \"min\": 25.0,\n        \"max\": 40.0,\n        \"num_unique_values\": 4,\n        \"samples\": [\n          30.0,\n          35.0,\n          25.0\n        ],\n        \"semantic_type\": \"\",\n        \"description\": \"\"\n      }\n    },\n    {\n      \"column\": \"Age_Group\",\n      \"properties\": {\n        \"dtype\": \"category\",\n        \"num_unique_values\": 3,\n        \"samples\": [\n          \"<25\",\n          \"25-34\",\n          \"35-44\"\n        ],\n        \"semantic_type\": \"\",\n        \"description\": \"\"\n      }\n    },\n    {\n      \"column\": \"Salary\",\n      \"properties\": {\n        \"dtype\": \"number\",\n        \"std\": 18517.113062840275,\n        \"min\": 59767.65,\n        \"max\": 115565.82,\n        \"num_unique_values\": 10,\n        \"samples\": [\n          115565.82,\n          65304.66,\n          88642.84\n        ],\n        \"semantic_type\": \"\",\n        \"description\": \"\"\n      }\n    },\n    {\n      \"column\": \"Salary_Level\",\n      \"properties\": {\n        \"dtype\": \"category\",\n        \"num_unique_values\": 3,\n        \"samples\": [\n          \"Low\",\n          \"Medium\",\n          \"High\"\n        ],\n        \"semantic_type\": \"\",\n        \"description\": \"\"\n      }\n    },\n    {\n      \"column\": \"Join_Date\",\n      \"properties\": {\n        \"dtype\": \"date\",\n        \"min\": \"2020-04-03 00:00:00\",\n        \"max\": \"2023-12-08 00:00:00\",\n        \"num_unique_values\": 10,\n        \"samples\": [\n          \"2023-12-08 00:00:00\",\n          \"2020-07-10 00:00:00\",\n          \"2020-06-10 00:00:00\"\n        ],\n        \"semantic_type\": \"\",\n        \"description\": \"\"\n      }\n    },\n    {\n      \"column\": \"Seniority_Years\",\n      \"properties\": {\n        \"dtype\": \"number\",\n        \"std\": 1,\n        \"min\": 1,\n        \"max\": 5,\n        \"num_unique_values\": 4,\n        \"samples\": [\n          5,\n          3,\n          4\n        ],\n        \"semantic_type\": \"\",\n        \"description\": \"\"\n      }\n    }\n  ]\n}"
            }
          },
          "metadata": {},
          "execution_count": 23
        }
      ],
      "source": [
        "# Lama kerja (tahun)\n",
        "df['Seniority_Years'] = (pd.to_datetime(\"today\") - df['Join_Date']).dt.days // 365\n",
        "\n",
        "# Kelompok usia\n",
        "bins = [0,25,35,45,55,100]\n",
        "labels = [\"<25\",\"25-34\",\"35-44\",\"45-54\",\"55+\"]\n",
        "df['Age_Group'] = pd.cut(df['Age'], bins=bins, labels=labels)\n",
        "\n",
        "# Level gaji (Low, Medium, High)\n",
        "df['Salary_Level'] = pd.qcut(df['Salary'], 3, labels=[\"Low\",\"Medium\",\"High\"])\n",
        "\n",
        "# Tampilkan hasil enrichment\n",
        "df[['Employee_ID','Full_Name','Age','Age_Group','Salary','Salary_Level','Join_Date','Seniority_Years']].head(10)"
      ]
    },
    {
      "cell_type": "markdown",
      "metadata": {
        "id": "lCy0D7vY6lql"
      },
      "source": []
    }
  ],
  "metadata": {
    "colab": {
      "provenance": []
    },
    "kernelspec": {
      "display_name": "Python 3",
      "name": "python3"
    },
    "language_info": {
      "name": "python"
    }
  },
  "nbformat": 4,
  "nbformat_minor": 0
}